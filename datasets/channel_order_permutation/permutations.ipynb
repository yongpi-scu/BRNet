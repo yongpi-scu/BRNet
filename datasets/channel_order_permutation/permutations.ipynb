{
 "cells": [
  {
   "cell_type": "code",
   "execution_count": 1,
   "metadata": {
    "ExecuteTime": {
     "end_time": "2022-01-28T08:06:43.079937Z",
     "start_time": "2022-01-28T08:06:42.896737Z"
    }
   },
   "outputs": [
    {
     "name": "stdout",
     "output_type": "stream",
     "text": [
      "[[1, 0, 2, 3], [0, 2, 3, 1], [3, 1, 0, 2], [2, 0, 1, 3], [1, 3, 2, 0], [2, 1, 3, 0], [1, 0, 3, 2], [1, 2, 3, 0], [0, 1, 3, 2], [1, 2, 0, 3], [2, 3, 1, 0], [0, 1, 2, 3], [3, 0, 1, 2], [3, 1, 2, 0], [3, 2, 0, 1], [1, 3, 0, 2], [3, 2, 1, 0], [0, 3, 1, 2], [0, 3, 2, 1], [2, 3, 0, 1], [2, 0, 3, 1], [0, 2, 1, 3], [3, 0, 2, 1], [2, 1, 0, 3]]\n"
     ]
    }
   ],
   "source": [
    "import random\n",
    "import numpy as np\n",
    "from functools import reduce\n",
    "\n",
    "def strip_permutation(permutations):\n",
    "    permutations_set = []\n",
    "    for index in range(len(permutations)):\n",
    "        tag = False\n",
    "        for val_index in range(index+1, len(permutations)):\n",
    "            if permutations[index] == permutations[val_index]:\n",
    "                tag = True\n",
    "                break\n",
    "        if not tag:\n",
    "            permutations_set.append(permutations[index])\n",
    "    return permutations_set\n",
    "\n",
    "def generate_permutation(nums, length):\n",
    "    if nums > reduce(lambda x,y:x*y,range(1, length+1)):\n",
    "        raise ValueError(\"length is too small for the nums\")\n",
    "    \n",
    "    permutations = []\n",
    "    while True:\n",
    "        # generate\n",
    "        for i in range(nums - len(permutations)):\n",
    "            permutations.append(random.sample(range(0, length), length))\n",
    "        permutations = strip_permutation(permutations)\n",
    "        # print(nums, len(permutations))\n",
    "        if len(permutations) == nums:\n",
    "            break\n",
    "    return permutations\n",
    "\n",
    "classes = 24\n",
    "length = 4\n",
    "permutations = generate_permutation(classes, length)\n",
    "print(permutations)\n",
    "np.save('permutations_%d.npy' % (classes), np.array(permutations))"
   ]
  }
 ],
 "metadata": {
  "kernelspec": {
   "display_name": "Python 3",
   "language": "python",
   "name": "python3"
  },
  "language_info": {
   "codemirror_mode": {
    "name": "ipython",
    "version": 3
   },
   "file_extension": ".py",
   "mimetype": "text/x-python",
   "name": "python",
   "nbconvert_exporter": "python",
   "pygments_lexer": "ipython3",
   "version": "3.7.4"
  }
 },
 "nbformat": 4,
 "nbformat_minor": 2
}
